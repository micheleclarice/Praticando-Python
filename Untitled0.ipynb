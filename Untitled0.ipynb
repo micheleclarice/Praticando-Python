{
  "nbformat": 4,
  "nbformat_minor": 0,
  "metadata": {
    "colab": {
      "name": "Untitled0.ipynb",
      "provenance": [],
      "authorship_tag": "ABX9TyO1KCCnSAFJ+zURluUGCwJm",
      "include_colab_link": true
    },
    "kernelspec": {
      "name": "python3",
      "display_name": "Python 3"
    },
    "language_info": {
      "name": "python"
    }
  },
  "cells": [
    {
      "cell_type": "markdown",
      "metadata": {
        "id": "view-in-github",
        "colab_type": "text"
      },
      "source": [
        "<a href=\"https://colab.research.google.com/github/micheleclarice/Praticando-Python/blob/main/Untitled0.ipynb\" target=\"_parent\"><img src=\"https://colab.research.google.com/assets/colab-badge.svg\" alt=\"Open In Colab\"/></a>"
      ]
    },
    {
      "cell_type": "code",
      "execution_count": null,
      "metadata": {
        "id": "WtvXCc5WGMv_",
        "colab": {
          "base_uri": "https://localhost:8080/"
        },
        "outputId": "42d4b8ba-cff9-4ec2-d943-2c634e4d2e5f"
      },
      "outputs": [
        {
          "output_type": "stream",
          "name": "stdout",
          "text": [
            "michele\n"
          ]
        }
      ],
      "source": [
        "nome = \"michele\"\n",
        "print (nome)"
      ]
    },
    {
      "cell_type": "markdown",
      "source": [
        "Treinando Python com Video em Aulas\n",
        "\n",
        "https://www.youtube.com/watch?v=31llNGKWDdo&list=RDCMUCrWvhVmt0Qac3HgsjQK62FQ&start_radio=1&rv=31llNGKWDdo&t=0&t=0"
      ],
      "metadata": {
        "id": "XjLTMXiuQ_fd"
      }
    },
    {
      "cell_type": "code",
      "source": [
        "nome = input('Qual é o seu nome?')\n",
        "peso = input('Qual é o seu peso?')\n",
        "idade = input('Qual é a sua idade?')\n",
        "print(nome, peso, idade)\n"
      ],
      "metadata": {
        "colab": {
          "base_uri": "https://localhost:8080/"
        },
        "id": "V72a6OAPWaey",
        "outputId": "18572abd-8cbb-4e06-aa78-171f497f69f1"
      },
      "execution_count": 9,
      "outputs": [
        {
          "output_type": "stream",
          "name": "stdout",
          "text": [
            "Qual é o seu nome?mika\n",
            "Qual é o seu peso?68\n",
            "Qual é a sua idade?40\n",
            "mika 68 40\n"
          ]
        }
      ]
    },
    {
      "cell_type": "markdown",
      "source": [
        "DESAFIO 01 COLOCAR ENTRE '' ONDE QUER QUE TEXTO APAREÇA!"
      ],
      "metadata": {
        "id": "sonwMovmlRQE"
      }
    },
    {
      "cell_type": "code",
      "source": [
        "nome = input('Qual é o seu nome?')\n",
        "print('Olá, ',nome,'! Prazer em te conhecer!')\n",
        "\n"
      ],
      "metadata": {
        "colab": {
          "base_uri": "https://localhost:8080/"
        },
        "id": "O26E_jNWlYeA",
        "outputId": "4a9e8b85-5443-457e-83e5-7d6d775d5835"
      },
      "execution_count": 10,
      "outputs": [
        {
          "output_type": "stream",
          "name": "stdout",
          "text": [
            "Qual é o seu nome?Michele\n",
            "Olá,  Michele ! Prazer em te conhecer!\n"
          ]
        }
      ]
    },
    {
      "cell_type": "markdown",
      "source": [
        "DESAFIO 2\n",
        "\n",
        "CRIE UM SCRIPT PYTHON QUE LEIA:\n",
        "\n",
        "DIA, MÊS E ANO DE NASCIMENTO DE UMA PESSOA E MOSTRE A MSG COM A DATA FORMATADA"
      ],
      "metadata": {
        "id": "-OLXnq4AlOr0"
      }
    },
    {
      "cell_type": "code",
      "source": [
        "print(\" Qual o dia do seu nascimento?\")\n",
        "Dia=input(\"Dia=\")\n",
        "Mês=input(\"Mês=\")\n",
        "Ano=input(\"Ano=\")\n",
        "print(\"Você nasceu no dia\",Dia,\"De\",Mês,\"De\",Ano,\"correto?\")\n",
        "\n",
        "1981"
      ],
      "metadata": {
        "colab": {
          "base_uri": "https://localhost:8080/"
        },
        "id": "AsTvPLw5lg6q",
        "outputId": "51d239cf-a769-4ba5-e75b-c994ac8c8a51"
      },
      "execution_count": 40,
      "outputs": [
        {
          "output_type": "stream",
          "name": "stdout",
          "text": [
            " Qual o dia do seu nascimento?\n",
            "Dia=19\n",
            "Mês=05\n",
            "Ano=1981\n",
            "Você nasceu no dia 19 De 05 De 1981 correto?\n"
          ]
        },
        {
          "output_type": "execute_result",
          "data": {
            "text/plain": [
              "1981"
            ]
          },
          "metadata": {},
          "execution_count": 40
        }
      ]
    }
  ]
}