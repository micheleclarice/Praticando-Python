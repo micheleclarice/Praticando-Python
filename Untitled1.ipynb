{
  "nbformat": 4,
  "nbformat_minor": 0,
  "metadata": {
    "colab": {
      "name": "Untitled1.ipynb",
      "provenance": [],
      "authorship_tag": "ABX9TyMnfZBZov/DMkQI3plVAX2K",
      "include_colab_link": true
    },
    "kernelspec": {
      "name": "python3",
      "display_name": "Python 3"
    },
    "language_info": {
      "name": "python"
    }
  },
  "cells": [
    {
      "cell_type": "markdown",
      "metadata": {
        "id": "view-in-github",
        "colab_type": "text"
      },
      "source": [
        "<a href=\"https://colab.research.google.com/github/micheleclarice/Praticando-Python/blob/main/Untitled1.ipynb\" target=\"_parent\"><img src=\"https://colab.research.google.com/assets/colab-badge.svg\" alt=\"Open In Colab\"/></a>"
      ]
    },
    {
      "cell_type": "code",
      "execution_count": 3,
      "metadata": {
        "colab": {
          "base_uri": "https://localhost:8080/"
        },
        "id": "u0f0QM5yytwF",
        "outputId": "4a8d1bc2-1c70-4d54-c3a1-0e4a2e22ab6e"
      },
      "outputs": [
        {
          "output_type": "stream",
          "name": "stdout",
          "text": [
            "9\n"
          ]
        }
      ],
      "source": [
        "x = 4\n",
        "y = 5\n",
        "print(x + y)"
      ]
    },
    {
      "cell_type": "markdown",
      "source": [
        "DESAFIO 3\n",
        "Crie um script Python que leia dois números e tente mostrar a soma deles"
      ],
      "metadata": {
        "id": "W7omKeeT0ONS"
      }
    },
    {
      "cell_type": "code",
      "source": [
        "num1 = input ('Primeiro numero é ')\n",
        "num2 = input ('Segundo numero é ')\n",
        "soma = int(num1) + int(num2)\n",
        "print ('A soma é ', soma)\n"
      ],
      "metadata": {
        "colab": {
          "base_uri": "https://localhost:8080/"
        },
        "id": "XJge96Dh0JcB",
        "outputId": "31582ac7-5e5e-4ba6-dfd3-1a4ce051263f"
      },
      "execution_count": 5,
      "outputs": [
        {
          "output_type": "stream",
          "name": "stdout",
          "text": [
            "Primeiro numero é 4\n",
            "Segundo numero é 5\n",
            "A soma é  9\n"
          ]
        }
      ]
    }
  ]
}